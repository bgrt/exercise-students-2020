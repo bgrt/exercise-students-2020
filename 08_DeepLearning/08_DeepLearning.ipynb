{
 "cells": [
  {
   "cell_type": "markdown",
   "metadata": {},
   "source": [
    "# 8 Deep Learning\n",
    "\n",
    "8.1 Use a pre-trained ResNet50 and VGG16 on Keras to implement an inference of the test image in this directory!\n",
    "\n",
    "* Example: <https://keras.io/applications/>\n",
    "\n",
    "\n",
    "8.2 Use a pre-trained ResNet50 and VGG16 on PyTorch to implement an inference of the test image in this directory!\n",
    "\n",
    "* Example: http://pytorch.org/docs/master/torchvision/models.html\n",
    "\n",
    "8.3 Compare the inference times of both networks and frameworks!\n",
    "\n",
    "8.4 Find two positive and negative sample images that are correctly/incorrectly classified!\n"
   ]
  },
  {
   "cell_type": "code",
   "execution_count": 28,
   "metadata": {},
   "outputs": [],
   "source": [
    "import os, sys\n",
    "import tensorflow as tf\n",
    "os.chdir(os.path.join(os.environ[\"HOME\"], \"exercise-students-2020/08_DeepLearning\"))\n",
    "os.environ[\"KERAS_BACKEND\"]=\"tensorflow\"\n",
    "import keras\n",
    "from keras.applications.resnet50 import ResNet50\n",
    "from keras.applications.resnet50 import preprocess_input as resnet_preprocess_input, decode_predictions as resnet_decode_predictions\n",
    "from keras.applications.vgg16 import VGG16\n",
    "from keras.applications.vgg16 import preprocess_input as vgg_preprocess_input, decode_predictions as vgg_decode_predictions\n",
    "import numpy as np\n",
    "from keras.preprocessing.image import load_img, img_to_array"
   ]
  },
  {
   "cell_type": "code",
   "execution_count": 20,
   "metadata": {},
   "outputs": [
    {
     "name": "stdout",
     "output_type": "stream",
     "text": [
      "Downloading data from https://github.com/fchollet/deep-learning-models/releases/download/v0.1/vgg16_weights_tf_dim_ordering_tf_kernels.h5\n",
      "553467904/553467096 [==============================] - 49s 0us/step\n"
     ]
    }
   ],
   "source": [
    "resnet = ResNet50()\n",
    "vgg = VGG16()"
   ]
  },
  {
   "cell_type": "code",
   "execution_count": 21,
   "metadata": {},
   "outputs": [],
   "source": [
    "image = img_to_array(load_img('test_image.jpg' , target_size=(224, 224)))\n",
    "image = image.reshape((1, image.shape[0], image.shape[1], image.shape[2]))"
   ]
  },
  {
   "cell_type": "code",
   "execution_count": 22,
   "metadata": {},
   "outputs": [
    {
     "data": {
      "text/plain": [
       "[[('n04604644', 'worm_fence', 0.07046478),\n",
       "  ('n02793495', 'barn', 0.0686209),\n",
       "  ('n03000134', 'chainlink_fence', 0.061941594),\n",
       "  ('n04326547', 'stone_wall', 0.05747776),\n",
       "  ('n03930313', 'picket_fence', 0.05441839)]]"
      ]
     },
     "execution_count": 22,
     "metadata": {},
     "output_type": "execute_result"
    }
   ],
   "source": [
    "resnet_decode_predictions(resnet.predict(resnet_preprocess_input(image)))"
   ]
  },
  {
   "cell_type": "code",
   "execution_count": 29,
   "metadata": {},
   "outputs": [
    {
     "data": {
      "text/plain": [
       "[[('n02793495', 'barn', 0.3092531),\n",
       "  ('n03028079', 'church', 0.23857628),\n",
       "  ('n03743016', 'megalith', 0.09048893),\n",
       "  ('n04604644', 'worm_fence', 0.06188944),\n",
       "  ('n03891251', 'park_bench', 0.05850323)]]"
      ]
     },
     "execution_count": 29,
     "metadata": {},
     "output_type": "execute_result"
    }
   ],
   "source": [
    "vgg_decode_predictions(vgg.predict(vgg_preprocess_input(image)))"
   ]
  }
 ],
 "metadata": {
  "kernelspec": {
   "display_name": "Python 3",
   "language": "python",
   "name": "python3"
  },
  "language_info": {
   "codemirror_mode": {
    "name": "ipython",
    "version": 3
   },
   "file_extension": ".py",
   "mimetype": "text/x-python",
   "name": "python",
   "nbconvert_exporter": "python",
   "pygments_lexer": "ipython3",
   "version": "3.7.3"
  }
 },
 "nbformat": 4,
 "nbformat_minor": 4
}
