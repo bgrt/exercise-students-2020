{
 "cells": [
  {
   "cell_type": "markdown",
   "metadata": {},
   "source": [
    "# Word Embeddings\n",
    "\n",
    "Documentation:\n",
    "\n",
    "* https://fasttext.cc/docs/en/english-vectors.html\n",
    "* https://fasttext.cc/docs/en/unsupervised-tutorial.html\n",
    "* https://fasttext.cc/docs/en/html/index.html\n",
    "\n",
    "1. Load the pre-trained Word Embeddings (`/opt/data/nlp/cc.en.300.bin`) into a FastText model!"
   ]
  },
  {
   "cell_type": "code",
   "execution_count": 1,
   "metadata": {},
   "outputs": [],
   "source": [
    "import fasttext"
   ]
  },
  {
   "cell_type": "code",
   "execution_count": 2,
   "metadata": {},
   "outputs": [
    {
     "name": "stderr",
     "output_type": "stream",
     "text": [
      "Warning : `load_model` does not return WordVectorModel or SupervisedModel any more, but a `FastText` object which is very similar.\n"
     ]
    }
   ],
   "source": [
    "model = fasttext.load_model('/opt/data/nlp/cc.en.300.bin')"
   ]
  },
  {
   "cell_type": "markdown",
   "metadata": {},
   "source": [
    "2. How large is the vocabulary?"
   ]
  },
  {
   "cell_type": "code",
   "execution_count": 3,
   "metadata": {},
   "outputs": [
    {
     "name": "stdout",
     "output_type": "stream",
     "text": [
      "2000000\n"
     ]
    }
   ],
   "source": [
    "print(len(model.words))"
   ]
  },
  {
   "cell_type": "markdown",
   "metadata": {},
   "source": [
    "3. How many dimensions does the model have?"
   ]
  },
  {
   "cell_type": "code",
   "execution_count": 4,
   "metadata": {},
   "outputs": [
    {
     "data": {
      "text/plain": [
       "300"
      ]
     },
     "execution_count": 4,
     "metadata": {},
     "output_type": "execute_result"
    }
   ],
   "source": [
    "model.get_dimension()"
   ]
  },
  {
   "cell_type": "markdown",
   "metadata": {},
   "source": [
    "4. Print the Word Vectors for the Munich!"
   ]
  },
  {
   "cell_type": "code",
   "execution_count": 5,
   "metadata": {},
   "outputs": [
    {
     "data": {
      "text/plain": [
       "array([-0.01772507,  0.04481639, -0.0458482 , -0.01564159,  0.00569844,\n",
       "       -0.01493978, -0.00475513,  0.05498182,  0.03653041,  0.05107911,\n",
       "       -0.00792894, -0.04519449,  0.02314676, -0.04049589,  0.0533328 ,\n",
       "       -0.01538926, -0.07663719, -0.1266364 , -0.0860248 ,  0.01669377,\n",
       "       -0.06406741, -0.01205093,  0.10280135, -0.05018425, -0.00066486,\n",
       "       -0.08689803, -0.03842681, -0.08041406,  0.16761142,  0.11794221,\n",
       "        0.01121775,  0.00119475, -0.01672026,  0.01051223, -0.08705565,\n",
       "        0.01279867, -0.04793347,  0.07529095,  0.06565578, -0.03357543,\n",
       "        0.06183482, -0.01693818,  0.07336422, -0.12507132, -0.06156905,\n",
       "        0.01393662, -0.02854991,  0.04012572,  0.08620507,  0.07610758,\n",
       "        0.00872343,  0.12036866, -0.09645183, -0.0086469 , -0.04031846,\n",
       "       -0.03134852, -0.08990994,  0.01966693,  0.11320422, -0.08001418,\n",
       "        0.028819  , -0.01371382,  0.06330752,  0.09222437,  0.02637078,\n",
       "       -0.05378804, -0.09224798, -0.05626002,  0.02702164,  0.03305807,\n",
       "       -0.01610627,  0.09820458, -0.0245055 , -0.12223028, -0.06889763,\n",
       "       -0.00073068,  0.09101934, -0.07081737, -0.0151146 ,  0.00631465,\n",
       "        0.02680041, -0.08624863, -0.05696797,  0.01299713, -0.00136152,\n",
       "        0.13543841, -0.11619727, -0.06551953,  0.04947636,  0.01494577,\n",
       "        0.02600141, -0.09467845, -0.08437981,  0.00100057,  0.00698672,\n",
       "       -0.04641306, -0.05989238, -0.014223  , -0.02943698,  0.00860245,\n",
       "       -0.0774036 , -0.05529372,  0.04497435, -0.02411163,  0.08492199,\n",
       "       -0.10311688, -0.0402289 ,  0.07778551,  0.0860513 , -0.03161011,\n",
       "        0.00458948,  0.04268206,  0.025066  , -0.00392838,  0.04263315,\n",
       "        0.0094071 , -0.00812091, -0.01850819, -0.02978847,  0.08367871,\n",
       "       -0.07238606, -0.04478065, -0.12010405,  0.06827433, -0.00201436,\n",
       "       -0.09958892, -0.11797064,  0.06072919,  0.03772426,  0.05083533,\n",
       "        0.01474614,  0.03642564,  0.07453152, -0.00682164, -0.0282963 ,\n",
       "       -0.00267217,  0.00367714,  0.08155388, -0.0117754 , -0.06950717,\n",
       "        0.07119288, -0.00171867, -0.08075183,  0.06380826, -0.03506867,\n",
       "        0.01592234, -0.09356904, -0.05991646,  0.13158284,  0.00219025,\n",
       "        0.00373693,  0.0029226 ,  0.06436392,  0.02661026,  0.00346738,\n",
       "       -0.05231561,  0.05720773, -0.05754374, -0.05452919,  0.07474547,\n",
       "        0.04563106,  0.1046474 , -0.02329591,  0.02871833,  0.00941173,\n",
       "        0.00165211,  0.00412526,  0.02726502,  0.05996868, -0.04817704,\n",
       "       -0.09326936, -0.04144226,  0.05278036, -0.02173151, -0.07228953,\n",
       "        0.01771641,  0.04133419,  0.06601115,  0.18385588, -0.10969118,\n",
       "        0.05200715,  0.08324096,  0.04365044,  0.016812  , -0.03448568,\n",
       "       -0.05360531, -0.06604447,  0.04209559,  0.0248202 , -0.01820864,\n",
       "        0.06206537,  0.06097725, -0.11480953,  0.13614945, -0.00951234,\n",
       "       -0.1266541 , -0.02644559,  0.11797889,  0.03446212,  0.06607246,\n",
       "       -0.02078057, -0.03295717,  0.00425594, -0.04910231, -0.0479382 ,\n",
       "       -0.07128065,  0.06532998, -0.09162188,  0.02065975, -0.0360451 ,\n",
       "        0.01306014, -0.03956234, -0.04056556,  0.01793732, -0.03810054,\n",
       "        0.01633163, -0.06573357, -0.08563105, -0.12234812, -0.01769206,\n",
       "        0.08289316, -0.06196999, -0.03446048,  0.01882645,  0.00892642,\n",
       "       -0.09373873,  0.00367414,  0.04108934,  0.088642  , -0.00455778,\n",
       "        0.04895796, -0.0075131 , -0.02141035, -0.01897264, -0.02752636,\n",
       "        0.06257544, -0.10069855, -0.00042582,  0.06276448,  0.00913526,\n",
       "        0.0203878 ,  0.07901226, -0.05117759, -0.00432513,  0.10055425,\n",
       "       -0.01952909,  0.03513503, -0.00561822, -0.05364017, -0.02605461,\n",
       "        0.02640735, -0.03378607, -0.01935866,  0.13289987,  0.01176461,\n",
       "        0.02799865,  0.00303612,  0.0341775 ,  0.05166116, -0.0547947 ,\n",
       "        0.11182063, -0.026841  , -0.06592603,  0.0815215 ,  0.02581985,\n",
       "        0.04425991, -0.03321132,  0.10636133,  0.03965869,  0.06237486,\n",
       "       -0.09418922, -0.05122945, -0.05030676, -0.00896821, -0.02935813,\n",
       "       -0.00897539, -0.11947399, -0.08771678,  0.06456883, -0.00147574,\n",
       "       -0.03651728, -0.04615075, -0.01793831, -0.07870683,  0.0111399 ,\n",
       "        0.07776713,  0.08119901,  0.02837917,  0.02222566,  0.00705926,\n",
       "        0.00503734, -0.04927195,  0.00998983, -0.03987397,  0.07774458,\n",
       "       -0.05352399,  0.0294655 ,  0.12562712, -0.04091997, -0.00885952],\n",
       "      dtype=float32)"
      ]
     },
     "execution_count": 5,
     "metadata": {},
     "output_type": "execute_result"
    }
   ],
   "source": [
    "model.get_word_vector('Munich')"
   ]
  },
  {
   "cell_type": "markdown",
   "metadata": {},
   "source": [
    "5. What are the most similar terms to LRZ?"
   ]
  },
  {
   "cell_type": "code",
   "execution_count": 6,
   "metadata": {},
   "outputs": [
    {
     "data": {
      "text/plain": [
       "[(0.6676446795463562, 'SuperMUC'),\n",
       " (0.6408230066299438, 'WLCG'),\n",
       " (0.6323488354682922, 'FZI'),\n",
       " (0.6296346783638, 'PDSF'),\n",
       " (0.624134361743927, 'FZK'),\n",
       " (0.6112837195396423, 'ESSL'),\n",
       " (0.6090673208236694, 'iVEC'),\n",
       " (0.6009016633033752, 'ETHZ'),\n",
       " (0.6007493734359741, 'XK7'),\n",
       " (0.5999080538749695, 'NERSC')]"
      ]
     },
     "execution_count": 6,
     "metadata": {},
     "output_type": "execute_result"
    }
   ],
   "source": [
    "model.get_nearest_neighbors('LRZ')"
   ]
  },
  {
   "cell_type": "markdown",
   "metadata": {},
   "source": [
    "6. Find the analogie to the relation of Berlin to Germany for Denmark!"
   ]
  },
  {
   "cell_type": "code",
   "execution_count": 8,
   "metadata": {},
   "outputs": [
    {
     "data": {
      "text/plain": [
       "['__class__',\n",
       " '__contains__',\n",
       " '__delattr__',\n",
       " '__dict__',\n",
       " '__dir__',\n",
       " '__doc__',\n",
       " '__eq__',\n",
       " '__format__',\n",
       " '__ge__',\n",
       " '__getattribute__',\n",
       " '__getitem__',\n",
       " '__gt__',\n",
       " '__hash__',\n",
       " '__init__',\n",
       " '__init_subclass__',\n",
       " '__le__',\n",
       " '__lt__',\n",
       " '__module__',\n",
       " '__ne__',\n",
       " '__new__',\n",
       " '__reduce__',\n",
       " '__reduce_ex__',\n",
       " '__repr__',\n",
       " '__setattr__',\n",
       " '__sizeof__',\n",
       " '__str__',\n",
       " '__subclasshook__',\n",
       " '__weakref__',\n",
       " '_labels',\n",
       " '_words',\n",
       " 'f',\n",
       " 'get_analogies',\n",
       " 'get_dimension',\n",
       " 'get_input_matrix',\n",
       " 'get_input_vector',\n",
       " 'get_labels',\n",
       " 'get_line',\n",
       " 'get_nearest_neighbors',\n",
       " 'get_output_matrix',\n",
       " 'get_sentence_vector',\n",
       " 'get_subword_id',\n",
       " 'get_subwords',\n",
       " 'get_word_id',\n",
       " 'get_word_vector',\n",
       " 'get_words',\n",
       " 'is_quantized',\n",
       " 'labels',\n",
       " 'predict',\n",
       " 'quantize',\n",
       " 'save_model',\n",
       " 'set_args',\n",
       " 'set_matrices',\n",
       " 'test',\n",
       " 'test_label',\n",
       " 'words']"
      ]
     },
     "execution_count": 8,
     "metadata": {},
     "output_type": "execute_result"
    }
   ],
   "source": [
    "dir(model)"
   ]
  },
  {
   "cell_type": "code",
   "execution_count": 13,
   "metadata": {},
   "outputs": [
    {
     "data": {
      "text/plain": [
       "[(0.7887206673622131, 'Copenhagen'),\n",
       " (0.7260220050811768, 'Aarhus'),\n",
       " (0.6744620203971863, 'Stockholm'),\n",
       " (0.6726727485656738, 'Århus'),\n",
       " (0.6658076047897339, 'Frederiksberg'),\n",
       " (0.642078697681427, 'Odense'),\n",
       " (0.6269904375076294, 'Christiania'),\n",
       " (0.6266441345214844, 'Roskilde'),\n",
       " (0.6243226528167725, 'Oslo'),\n",
       " (0.6190618276596069, 'Copenhagan')]"
      ]
     },
     "execution_count": 13,
     "metadata": {},
     "output_type": "execute_result"
    }
   ],
   "source": [
    "model.get_analogies('Berlin', 'Germany', 'Denmark')"
   ]
  }
 ],
 "metadata": {
  "kernelspec": {
   "display_name": "Python 3",
   "language": "python",
   "name": "python3"
  },
  "language_info": {
   "codemirror_mode": {
    "name": "ipython",
    "version": 3
   },
   "file_extension": ".py",
   "mimetype": "text/x-python",
   "name": "python",
   "nbconvert_exporter": "python",
   "pygments_lexer": "ipython3",
   "version": "3.7.3"
  }
 },
 "nbformat": 4,
 "nbformat_minor": 4
}
