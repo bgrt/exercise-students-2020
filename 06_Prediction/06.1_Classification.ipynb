{
 "cells": [
  {
   "cell_type": "markdown",
   "metadata": {},
   "source": [
    "# 6.1 Classification \n",
    "\n",
    "## 6.1.1 Create a classification model using a logistic regression!\n",
    "\n",
    "* http://scikit-learn.org/stable/modules/generated/sklearn.linear_model.LogisticRegression.html#sklearn.linear_model.LogisticRegression\n",
    "* Train a model that classifies the type of flower using (i) 2 features (sepal length and width) and (ii) all 4 features! Create a testing dataset of 25% for validation!\n",
    "* Visualize the model!\n",
    "* Create a confusion matrix!\n",
    "* Compute precision and recall for every class in your model!"
   ]
  },
  {
   "cell_type": "code",
   "execution_count": 1,
   "metadata": {},
   "outputs": [],
   "source": [
    "%matplotlib inline\n",
    "import os, sys\n",
    "from sklearn import linear_model, datasets\n",
    "import pandas as pd\n",
    "import numpy as np\n",
    "import numpy as np\n",
    "import matplotlib.pyplot as plt\n",
    "from sklearn.model_selection import train_test_split\n",
    "from sklearn.metrics import confusion_matrix, classification_report\n",
    "from sklearn.preprocessing import OneHotEncoder\n",
    "from sklearn.linear_model import LogisticRegression as sklearn_LogisticRegression\n",
    "from sklearn.manifold import TSNE"
   ]
  },
  {
   "cell_type": "code",
   "execution_count": 2,
   "metadata": {},
   "outputs": [
    {
     "data": {
      "text/html": [
       "<div>\n",
       "<style scoped>\n",
       "    .dataframe tbody tr th:only-of-type {\n",
       "        vertical-align: middle;\n",
       "    }\n",
       "\n",
       "    .dataframe tbody tr th {\n",
       "        vertical-align: top;\n",
       "    }\n",
       "\n",
       "    .dataframe thead th {\n",
       "        text-align: right;\n",
       "    }\n",
       "</style>\n",
       "<table border=\"1\" class=\"dataframe\">\n",
       "  <thead>\n",
       "    <tr style=\"text-align: right;\">\n",
       "      <th></th>\n",
       "      <th>sepal length (cm)</th>\n",
       "      <th>sepal width (cm)</th>\n",
       "      <th>petal length (cm)</th>\n",
       "      <th>petal width (cm)</th>\n",
       "      <th>target</th>\n",
       "      <th>target_name</th>\n",
       "    </tr>\n",
       "  </thead>\n",
       "  <tbody>\n",
       "    <tr>\n",
       "      <th>0</th>\n",
       "      <td>5.1</td>\n",
       "      <td>3.5</td>\n",
       "      <td>1.4</td>\n",
       "      <td>0.2</td>\n",
       "      <td>0</td>\n",
       "      <td>setosa</td>\n",
       "    </tr>\n",
       "    <tr>\n",
       "      <th>1</th>\n",
       "      <td>4.9</td>\n",
       "      <td>3.0</td>\n",
       "      <td>1.4</td>\n",
       "      <td>0.2</td>\n",
       "      <td>0</td>\n",
       "      <td>setosa</td>\n",
       "    </tr>\n",
       "    <tr>\n",
       "      <th>2</th>\n",
       "      <td>4.7</td>\n",
       "      <td>3.2</td>\n",
       "      <td>1.3</td>\n",
       "      <td>0.2</td>\n",
       "      <td>0</td>\n",
       "      <td>setosa</td>\n",
       "    </tr>\n",
       "    <tr>\n",
       "      <th>3</th>\n",
       "      <td>4.6</td>\n",
       "      <td>3.1</td>\n",
       "      <td>1.5</td>\n",
       "      <td>0.2</td>\n",
       "      <td>0</td>\n",
       "      <td>setosa</td>\n",
       "    </tr>\n",
       "    <tr>\n",
       "      <th>4</th>\n",
       "      <td>5.0</td>\n",
       "      <td>3.6</td>\n",
       "      <td>1.4</td>\n",
       "      <td>0.2</td>\n",
       "      <td>0</td>\n",
       "      <td>setosa</td>\n",
       "    </tr>\n",
       "  </tbody>\n",
       "</table>\n",
       "</div>"
      ],
      "text/plain": [
       "   sepal length (cm)  sepal width (cm)  petal length (cm)  petal width (cm)  \\\n",
       "0                5.1               3.5                1.4               0.2   \n",
       "1                4.9               3.0                1.4               0.2   \n",
       "2                4.7               3.2                1.3               0.2   \n",
       "3                4.6               3.1                1.5               0.2   \n",
       "4                5.0               3.6                1.4               0.2   \n",
       "\n",
       "   target target_name  \n",
       "0       0      setosa  \n",
       "1       0      setosa  \n",
       "2       0      setosa  \n",
       "3       0      setosa  \n",
       "4       0      setosa  "
      ]
     },
     "execution_count": 2,
     "metadata": {},
     "output_type": "execute_result"
    }
   ],
   "source": [
    "iris = datasets.load_iris()\n",
    "iris_df = pd.DataFrame(iris.data, columns=iris.feature_names)\n",
    "iris_df['target'] = iris.target\n",
    "iris_df[\"target_name\"]=iris['target_names'][iris_df['target']] \n",
    "iris_df.head()"
   ]
  },
  {
   "cell_type": "code",
   "execution_count": 3,
   "metadata": {},
   "outputs": [
    {
     "data": {
      "text/plain": [
       "0         setosa\n",
       "1         setosa\n",
       "2         setosa\n",
       "3         setosa\n",
       "4         setosa\n",
       "         ...    \n",
       "145    virginica\n",
       "146    virginica\n",
       "147    virginica\n",
       "148    virginica\n",
       "149    virginica\n",
       "Name: target_name, Length: 150, dtype: object"
      ]
     },
     "execution_count": 3,
     "metadata": {},
     "output_type": "execute_result"
    }
   ],
   "source": [
    "iris_df.target_name"
   ]
  },
  {
   "cell_type": "code",
   "execution_count": 4,
   "metadata": {},
   "outputs": [],
   "source": [
    "X_train, X_test, y_train, y_test = train_test_split(iris_df.iloc[:,0:2], iris_df.target, test_size=0.25, random_state=42)\n",
    "lr_two_variables = sklearn_LogisticRegression()"
   ]
  },
  {
   "cell_type": "code",
   "execution_count": 5,
   "metadata": {},
   "outputs": [
    {
     "name": "stdout",
     "output_type": "stream",
     "text": [
      "CPU times: user 28.8 ms, sys: 4.16 ms, total: 32.9 ms\n",
      "Wall time: 33 ms\n"
     ]
    },
    {
     "data": {
      "text/plain": [
       "LogisticRegression(C=1.0, class_weight=None, dual=False, fit_intercept=True,\n",
       "                   intercept_scaling=1, l1_ratio=None, max_iter=100,\n",
       "                   multi_class='auto', n_jobs=None, penalty='l2',\n",
       "                   random_state=None, solver='lbfgs', tol=0.0001, verbose=0,\n",
       "                   warm_start=False)"
      ]
     },
     "execution_count": 5,
     "metadata": {},
     "output_type": "execute_result"
    }
   ],
   "source": [
    "%%time\n",
    "lr_two_variables.fit(X_train, y_train)"
   ]
  },
  {
   "cell_type": "code",
   "execution_count": 6,
   "metadata": {},
   "outputs": [],
   "source": [
    "prediction_two_variables = lr_two_variables.predict(X_test)"
   ]
  },
  {
   "cell_type": "code",
   "execution_count": 7,
   "metadata": {},
   "outputs": [
    {
     "data": {
      "image/png": "[encoded data removed]",
      "text/plain": [
       "<Figure size 288x216 with 1 Axes>"
      ]
     },
     "metadata": {
      "needs_background": "light"
     },
     "output_type": "display_data"
    }
   ],
   "source": [
    "#inspired by: https://scikit-learn.org/stable/auto_examples/linear_model/plot_iris_logistic.html\n",
    "x_min, x_max = iris_df.iloc[:, 0].min() - .5, iris_df.iloc[:, 0].max() + .5\n",
    "y_min, y_max = iris_df.iloc[:, 1].min() - .5, iris_df.iloc[:, 1].max() + .5\n",
    "h = .02  # step size in the mesh\n",
    "xx, yy = np.meshgrid(np.arange(x_min, x_max, h), np.arange(y_min, y_max, h))\n",
    "Z = lr_two_variables.predict(np.c_[xx.ravel(), yy.ravel()])\n",
    "\n",
    "# Put the result into a color plot\n",
    "Z = Z.reshape(xx.shape)\n",
    "plt.figure(1, figsize=(4, 3))\n",
    "plt.pcolormesh(xx, yy, Z, cmap=plt.cm.Paired)\n",
    "\n",
    "plt.xlabel('Sepal length')\n",
    "plt.ylabel('Sepal width')\n",
    "\n",
    "plt.scatter(X_test[y_test==0].iloc[:,0], X_test[y_test==0].iloc[:,1], s=10, c='r', marker=\".\", label='setosa')\n",
    "plt.scatter(X_test[y_test==1].iloc[:,0], X_test[y_test==1].iloc[:,1], s=10, c='g', marker=\"^\", label='versicolor')\n",
    "plt.scatter(X_test[y_test==2].iloc[:,0], X_test[y_test==2].iloc[:,1], s=10, c='b', marker=\"s\", label='virginica')\n",
    "plt.legend(loc='upper right');\n",
    "plt.show()"
   ]
  },
  {
   "cell_type": "code",
   "execution_count": 8,
   "metadata": {},
   "outputs": [
    {
     "data": {
      "text/plain": [
       "array([[15,  0,  0],\n",
       "       [ 0,  7,  2],\n",
       "       [ 0,  4, 10]])"
      ]
     },
     "execution_count": 8,
     "metadata": {},
     "output_type": "execute_result"
    }
   ],
   "source": [
    "confusion_matrix(prediction_two_variables, y_test)"
   ]
  },
  {
   "cell_type": "code",
   "execution_count": 9,
   "metadata": {},
   "outputs": [],
   "source": [
    "m = classification_report(prediction_two_variables, y_test, output_dict=True)\n",
    "precisions_two_variables = {x: m[str(x)]['precision'] for x in range(3)}\n",
    "recalls_two_variables = {x:m[str(x)]['recall'] for x in range(3)}"
   ]
  },
  {
   "cell_type": "code",
   "execution_count": 10,
   "metadata": {},
   "outputs": [
    {
     "data": {
      "text/plain": [
       "{0: 1.0, 1: 0.6363636363636364, 2: 0.8333333333333334}"
      ]
     },
     "execution_count": 10,
     "metadata": {},
     "output_type": "execute_result"
    }
   ],
   "source": [
    "precisions_two_variables"
   ]
  },
  {
   "cell_type": "code",
   "execution_count": 11,
   "metadata": {},
   "outputs": [
    {
     "data": {
      "text/plain": [
       "{0: 1.0, 1: 0.7777777777777778, 2: 0.7142857142857143}"
      ]
     },
     "execution_count": 11,
     "metadata": {},
     "output_type": "execute_result"
    }
   ],
   "source": [
    "recalls_two_variables"
   ]
  },
  {
   "cell_type": "code",
   "execution_count": 12,
   "metadata": {},
   "outputs": [],
   "source": [
    "X_train, X_test, y_train, y_test = train_test_split(iris_df.iloc[:,0:4], iris_df.target, test_size=0.25, random_state=42)\n",
    "lr_four_variables = sklearn_LogisticRegression(max_iter=200)"
   ]
  },
  {
   "cell_type": "code",
   "execution_count": 13,
   "metadata": {},
   "outputs": [
    {
     "name": "stdout",
     "output_type": "stream",
     "text": [
      "CPU times: user 43.6 ms, sys: 8.5 ms, total: 52.1 ms\n",
      "Wall time: 43.7 ms\n"
     ]
    },
    {
     "data": {
      "text/plain": [
       "LogisticRegression(C=1.0, class_weight=None, dual=False, fit_intercept=True,\n",
       "                   intercept_scaling=1, l1_ratio=None, max_iter=200,\n",
       "                   multi_class='auto', n_jobs=None, penalty='l2',\n",
       "                   random_state=None, solver='lbfgs', tol=0.0001, verbose=0,\n",
       "                   warm_start=False)"
      ]
     },
     "execution_count": 13,
     "metadata": {},
     "output_type": "execute_result"
    }
   ],
   "source": [
    "%%time\n",
    "lr_four_variables.fit(X_train, y_train)"
   ]
  },
  {
   "cell_type": "code",
   "execution_count": 14,
   "metadata": {},
   "outputs": [],
   "source": [
    "prediction_four_variables = lr_four_variables.predict(X_test)"
   ]
  },
  {
   "cell_type": "code",
   "execution_count": 83,
   "metadata": {},
   "outputs": [],
   "source": [
    "tsne = TSNE(perplexity=20, learning_rate=10, n_iter=3000)\n",
    "output = tsne.fit_transform(X_test.iloc[:,:4])"
   ]
  },
  {
   "cell_type": "code",
   "execution_count": 84,
   "metadata": {},
   "outputs": [
    {
     "data": {
      "text/plain": [
       "<matplotlib.collections.PathCollection at 0x7fdabf39aa90>"
      ]
     },
     "execution_count": 84,
     "metadata": {},
     "output_type": "execute_result"
    },
    {
     "data": {
      "image/png": "[encoded data removed]",
      "text/plain": [
       "<Figure size 432x288 with 1 Axes>"
      ]
     },
     "metadata": {
      "needs_background": "light"
     },
     "output_type": "display_data"
    }
   ],
   "source": [
    "plt.scatter(output.T[0][y_test==0], output.T[1][y_test==0])\n",
    "plt.scatter(output.T[0][y_test==1], output.T[1][y_test==1])\n",
    "plt.scatter(output.T[0][y_test==2], output.T[1][y_test==2])"
   ]
  },
  {
   "cell_type": "code",
   "execution_count": 85,
   "metadata": {},
   "outputs": [
    {
     "data": {
      "text/plain": [
       "<matplotlib.collections.PathCollection at 0x7fdabf2bbe80>"
      ]
     },
     "execution_count": 85,
     "metadata": {},
     "output_type": "execute_result"
    },
    {
     "data": {
      "image/png": "[encoded data removed]",
      "text/plain": [
       "<Figure size 432x288 with 1 Axes>"
      ]
     },
     "metadata": {
      "needs_background": "light"
     },
     "output_type": "display_data"
    }
   ],
   "source": [
    "plt.scatter(output.T[0][prediction_four_variables==0], output.T[1][prediction_four_variables==0])\n",
    "plt.scatter(output.T[0][prediction_four_variables==1], output.T[1][prediction_four_variables==1])\n",
    "plt.scatter(output.T[0][prediction_four_variables==2], output.T[1][prediction_four_variables==2])"
   ]
  },
  {
   "cell_type": "code",
   "execution_count": 18,
   "metadata": {},
   "outputs": [
    {
     "data": {
      "text/plain": [
       "array([[15,  0,  0],\n",
       "       [ 0, 11,  0],\n",
       "       [ 0,  0, 12]])"
      ]
     },
     "execution_count": 18,
     "metadata": {},
     "output_type": "execute_result"
    }
   ],
   "source": [
    "confusion_matrix(prediction_four_variables, y_test)"
   ]
  },
  {
   "cell_type": "code",
   "execution_count": 19,
   "metadata": {},
   "outputs": [],
   "source": [
    "m = classification_report(prediction_four_variables, y_test, output_dict=True)\n",
    "precisions_four_variables = {x: m[str(x)]['precision'] for x in range(3)}\n",
    "recalls_four_variables = {x:m[str(x)]['recall'] for x in range(3)}"
   ]
  },
  {
   "cell_type": "code",
   "execution_count": 20,
   "metadata": {},
   "outputs": [
    {
     "data": {
      "text/plain": [
       "{0: 1.0, 1: 1.0, 2: 1.0}"
      ]
     },
     "execution_count": 20,
     "metadata": {},
     "output_type": "execute_result"
    }
   ],
   "source": [
    "precisions_four_variables"
   ]
  },
  {
   "cell_type": "code",
   "execution_count": 21,
   "metadata": {},
   "outputs": [
    {
     "data": {
      "text/plain": [
       "{0: 1.0, 1: 1.0, 2: 1.0}"
      ]
     },
     "execution_count": 21,
     "metadata": {},
     "output_type": "execute_result"
    }
   ],
   "source": [
    "recalls_four_variables"
   ]
  },
  {
   "cell_type": "markdown",
   "metadata": {},
   "source": [
    "## 6.1.2 Spark\n",
    "\n",
    "* Using Spark MLlib to create a Logistic Regression!\n",
    "    * https://spark.apache.org/docs/latest/ml-classification-regression.html\n",
    "    * <https://spark.apache.org/docs/latest/api/python/pyspark.ml.html#pyspark.ml.classification.LogisticRegression>\n",
    "    \n",
    "* Measure the training time. Compare the training time with the scikit-learn implementation! Explain! "
   ]
  },
  {
   "cell_type": "code",
   "execution_count": 3,
   "metadata": {},
   "outputs": [
    {
     "name": "stdout",
     "output_type": "stream",
     "text": [
      "PySpark initiated...\n"
     ]
    }
   ],
   "source": [
    "# Initialize PySpark\n",
    "import os, sys\n",
    "APP_NAME = \"PySpark Lecture\"\n",
    "SPARK_MASTER=\"local[16]\"\n",
    "import pyspark\n",
    "import pyspark.sql\n",
    "from pyspark.sql import Row\n",
    "from pyspark.ml.classification import LogisticRegression as spark_LogisticRegression\n",
    "from pyspark.ml.evaluation import MulticlassClassificationEvaluator\n",
    "from pyspark.ml.feature import VectorAssembler\n",
    "conf=pyspark.SparkConf()\n",
    "conf=pyspark.SparkConf().setAppName(APP_NAME).set(\"spark.local.dir\", os.path.join(os.getcwd(), \"tmp\"))\n",
    "sc = pyspark.SparkContext(master=SPARK_MASTER, conf=conf)\n",
    "spark = pyspark.sql.SparkSession(sc).builder.appName(APP_NAME).getOrCreate()\n",
    "\n",
    "print(\"PySpark initiated...\")"
   ]
  },
  {
   "cell_type": "code",
   "execution_count": 4,
   "metadata": {},
   "outputs": [
    {
     "name": "stdout",
     "output_type": "stream",
     "text": [
      "+-----------------+-----+\n",
      "|         features|label|\n",
      "+-----------------+-----+\n",
      "|[5.1,3.5,1.4,0.2]|    0|\n",
      "|[4.9,3.0,1.4,0.2]|    0|\n",
      "|[4.7,3.2,1.3,0.2]|    0|\n",
      "+-----------------+-----+\n",
      "only showing top 3 rows\n",
      "\n"
     ]
    }
   ],
   "source": [
    "spark_iris_df = spark.createDataFrame(iris_df)\n",
    "spark_iris_df = spark_iris_df.withColumnRenamed(\"target\",\"label\")\n",
    "vecAssembler = VectorAssembler(inputCols = ['sepal length (cm)', 'sepal width (cm)', 'petal length (cm)', 'petal width (cm)'], outputCol = 'features')\n",
    "vectorised_spark_iris_df = vecAssembler.transform(spark_iris_df)\n",
    "vectorised_spark_iris_df = vectorised_spark_iris_df.select(['features', 'label'])\n",
    "vectorised_spark_iris_df.show(3)"
   ]
  },
  {
   "cell_type": "code",
   "execution_count": 9,
   "metadata": {},
   "outputs": [],
   "source": [
    "spark_lr = spark_LogisticRegression(maxIter=200)"
   ]
  },
  {
   "cell_type": "code",
   "execution_count": 10,
   "metadata": {},
   "outputs": [],
   "source": [
    "spark_iris_df_train, spark_iris_df_test = vectorised_spark_iris_df.randomSplit([0.75, 0.25], seed=1337)"
   ]
  },
  {
   "cell_type": "code",
   "execution_count": 11,
   "metadata": {},
   "outputs": [
    {
     "data": {
      "text/plain": [
       "[Row(features=DenseVector([4.4, 2.9, 1.4, 0.2]), label=0),\n",
       " Row(features=DenseVector([4.6, 3.1, 1.5, 0.2]), label=0),\n",
       " Row(features=DenseVector([4.7, 3.2, 1.3, 0.2]), label=0),\n",
       " Row(features=DenseVector([4.9, 3.0, 1.4, 0.2]), label=0),\n",
       " Row(features=DenseVector([5.0, 3.4, 1.5, 0.2]), label=0),\n",
       " Row(features=DenseVector([5.0, 3.6, 1.4, 0.2]), label=0),\n",
       " Row(features=DenseVector([4.8, 3.0, 1.4, 0.1]), label=0),\n",
       " Row(features=DenseVector([4.9, 3.1, 1.5, 0.1]), label=0),\n",
       " Row(features=DenseVector([5.4, 3.7, 1.5, 0.2]), label=0),\n",
       " Row(features=DenseVector([5.8, 4.0, 1.2, 0.2]), label=0),\n",
       " Row(features=DenseVector([4.6, 3.6, 1.0, 0.2]), label=0),\n",
       " Row(features=DenseVector([5.0, 3.0, 1.6, 0.2]), label=0),\n",
       " Row(features=DenseVector([5.0, 3.4, 1.6, 0.4]), label=0),\n",
       " Row(features=DenseVector([5.1, 3.3, 1.7, 0.5]), label=0),\n",
       " Row(features=DenseVector([5.1, 3.7, 1.5, 0.4]), label=0),\n",
       " Row(features=DenseVector([5.1, 3.8, 1.5, 0.3]), label=0),\n",
       " Row(features=DenseVector([4.7, 3.2, 1.6, 0.2]), label=0),\n",
       " Row(features=DenseVector([4.8, 3.1, 1.6, 0.2]), label=0),\n",
       " Row(features=DenseVector([4.9, 3.1, 1.5, 0.2]), label=0),\n",
       " Row(features=DenseVector([5.0, 3.2, 1.2, 0.2]), label=0),\n",
       " Row(features=DenseVector([5.2, 3.5, 1.5, 0.2]), label=0),\n",
       " Row(features=DenseVector([5.2, 4.1, 1.5, 0.1]), label=0),\n",
       " Row(features=DenseVector([5.4, 3.4, 1.5, 0.4]), label=0),\n",
       " Row(features=DenseVector([4.4, 3.0, 1.3, 0.2]), label=0),\n",
       " Row(features=DenseVector([4.5, 2.3, 1.3, 0.3]), label=0),\n",
       " Row(features=DenseVector([5.0, 3.5, 1.3, 0.3]), label=0),\n",
       " Row(features=DenseVector([5.0, 3.5, 1.6, 0.6]), label=0),\n",
       " Row(features=DenseVector([5.1, 3.8, 1.9, 0.4]), label=0),\n",
       " Row(features=DenseVector([4.6, 3.2, 1.4, 0.2]), label=0),\n",
       " Row(features=DenseVector([4.8, 3.0, 1.4, 0.3]), label=0),\n",
       " Row(features=DenseVector([5.5, 2.3, 4.0, 1.3]), label=1),\n",
       " Row(features=DenseVector([6.4, 3.2, 4.5, 1.5]), label=1),\n",
       " Row(features=DenseVector([6.9, 3.1, 4.9, 1.5]), label=1),\n",
       " Row(features=DenseVector([7.0, 3.2, 4.7, 1.4]), label=1),\n",
       " Row(features=DenseVector([4.9, 2.4, 3.3, 1.0]), label=1),\n",
       " Row(features=DenseVector([5.0, 2.0, 3.5, 1.0]), label=1),\n",
       " Row(features=DenseVector([5.2, 2.7, 3.9, 1.4]), label=1),\n",
       " Row(features=DenseVector([5.7, 2.8, 4.5, 1.3]), label=1),\n",
       " Row(features=DenseVector([5.9, 3.0, 4.2, 1.5]), label=1),\n",
       " Row(features=DenseVector([6.0, 2.2, 4.0, 1.0]), label=1),\n",
       " Row(features=DenseVector([6.3, 3.3, 4.7, 1.6]), label=1),\n",
       " Row(features=DenseVector([6.5, 2.8, 4.6, 1.5]), label=1),\n",
       " Row(features=DenseVector([5.6, 2.5, 3.9, 1.1]), label=1),\n",
       " Row(features=DenseVector([5.6, 2.9, 3.6, 1.3]), label=1),\n",
       " Row(features=DenseVector([5.6, 3.0, 4.5, 1.5]), label=1),\n",
       " Row(features=DenseVector([5.8, 2.7, 4.1, 1.0]), label=1),\n",
       " Row(features=DenseVector([6.1, 2.8, 4.0, 1.3]), label=1),\n",
       " Row(features=DenseVector([6.1, 2.9, 4.7, 1.4]), label=1),\n",
       " Row(features=DenseVector([6.2, 2.2, 4.5, 1.5]), label=1),\n",
       " Row(features=DenseVector([6.7, 3.1, 4.4, 1.4]), label=1),\n",
       " Row(features=DenseVector([5.5, 2.4, 3.8, 1.1]), label=1),\n",
       " Row(features=DenseVector([6.0, 2.9, 4.5, 1.5]), label=1),\n",
       " Row(features=DenseVector([6.1, 2.8, 4.7, 1.2]), label=1),\n",
       " Row(features=DenseVector([6.3, 2.5, 4.9, 1.5]), label=1),\n",
       " Row(features=DenseVector([6.4, 2.9, 4.3, 1.3]), label=1),\n",
       " Row(features=DenseVector([6.7, 3.0, 5.0, 1.7]), label=1),\n",
       " Row(features=DenseVector([6.8, 2.8, 4.8, 1.4]), label=1),\n",
       " Row(features=DenseVector([5.5, 2.4, 3.7, 1.0]), label=1),\n",
       " Row(features=DenseVector([5.5, 2.5, 4.0, 1.3]), label=1),\n",
       " Row(features=DenseVector([5.6, 3.0, 4.1, 1.3]), label=1),\n",
       " Row(features=DenseVector([5.8, 2.7, 3.9, 1.2]), label=1),\n",
       " Row(features=DenseVector([6.0, 2.7, 5.1, 1.6]), label=1),\n",
       " Row(features=DenseVector([6.0, 3.4, 4.5, 1.6]), label=1),\n",
       " Row(features=DenseVector([6.3, 2.3, 4.4, 1.3]), label=1),\n",
       " Row(features=DenseVector([6.7, 3.1, 4.7, 1.5]), label=1),\n",
       " Row(features=DenseVector([5.1, 2.5, 3.0, 1.1]), label=1),\n",
       " Row(features=DenseVector([5.5, 2.6, 4.4, 1.2]), label=1),\n",
       " Row(features=DenseVector([5.6, 2.7, 4.2, 1.3]), label=1),\n",
       " Row(features=DenseVector([5.7, 2.9, 4.2, 1.3]), label=1),\n",
       " Row(features=DenseVector([5.7, 3.0, 4.2, 1.2]), label=1),\n",
       " Row(features=DenseVector([5.8, 2.6, 4.0, 1.2]), label=1),\n",
       " Row(features=DenseVector([6.2, 2.9, 4.3, 1.3]), label=1),\n",
       " Row(features=DenseVector([4.9, 2.5, 4.5, 1.7]), label=2),\n",
       " Row(features=DenseVector([5.7, 2.8, 4.1, 1.3]), label=1),\n",
       " Row(features=DenseVector([5.8, 2.7, 5.1, 1.9]), label=2),\n",
       " Row(features=DenseVector([6.3, 2.9, 5.6, 1.8]), label=2),\n",
       " Row(features=DenseVector([6.3, 3.3, 6.0, 2.5]), label=2),\n",
       " Row(features=DenseVector([6.5, 3.0, 5.8, 2.2]), label=2),\n",
       " Row(features=DenseVector([7.1, 3.0, 5.9, 2.1]), label=2),\n",
       " Row(features=DenseVector([7.3, 2.9, 6.3, 1.8]), label=2),\n",
       " Row(features=DenseVector([7.6, 3.0, 6.6, 2.1]), label=2),\n",
       " Row(features=DenseVector([6.4, 2.7, 5.3, 1.9]), label=2),\n",
       " Row(features=DenseVector([6.5, 3.0, 5.5, 1.8]), label=2),\n",
       " Row(features=DenseVector([6.7, 2.5, 5.8, 1.8]), label=2),\n",
       " Row(features=DenseVector([6.8, 3.0, 5.5, 2.1]), label=2),\n",
       " Row(features=DenseVector([7.2, 3.6, 6.1, 2.5]), label=2),\n",
       " Row(features=DenseVector([5.6, 2.8, 4.9, 2.0]), label=2),\n",
       " Row(features=DenseVector([6.0, 2.2, 5.0, 1.5]), label=2),\n",
       " Row(features=DenseVector([6.3, 2.7, 4.9, 1.8]), label=2),\n",
       " Row(features=DenseVector([6.7, 3.3, 5.7, 2.1]), label=2),\n",
       " Row(features=DenseVector([6.9, 3.2, 5.7, 2.3]), label=2),\n",
       " Row(features=DenseVector([7.7, 2.6, 6.9, 2.3]), label=2),\n",
       " Row(features=DenseVector([7.7, 2.8, 6.7, 2.0]), label=2),\n",
       " Row(features=DenseVector([6.1, 2.6, 5.6, 1.4]), label=2),\n",
       " Row(features=DenseVector([6.1, 3.0, 4.9, 1.8]), label=2),\n",
       " Row(features=DenseVector([6.2, 2.8, 4.8, 1.8]), label=2),\n",
       " Row(features=DenseVector([6.3, 2.8, 5.1, 1.5]), label=2),\n",
       " Row(features=DenseVector([6.4, 2.8, 5.6, 2.1]), label=2),\n",
       " Row(features=DenseVector([6.4, 2.8, 5.6, 2.2]), label=2),\n",
       " Row(features=DenseVector([7.2, 3.0, 5.8, 1.6]), label=2),\n",
       " Row(features=DenseVector([5.8, 2.7, 5.1, 1.9]), label=2),\n",
       " Row(features=DenseVector([5.9, 3.0, 5.1, 1.8]), label=2),\n",
       " Row(features=DenseVector([6.0, 3.0, 4.8, 1.8]), label=2),\n",
       " Row(features=DenseVector([6.2, 3.4, 5.4, 2.3]), label=2),\n",
       " Row(features=DenseVector([6.3, 2.5, 5.0, 1.9]), label=2),\n",
       " Row(features=DenseVector([6.4, 3.1, 5.5, 1.8]), label=2),\n",
       " Row(features=DenseVector([6.5, 3.0, 5.2, 2.0]), label=2),\n",
       " Row(features=DenseVector([6.7, 3.0, 5.2, 2.3]), label=2),\n",
       " Row(features=DenseVector([6.7, 3.1, 5.6, 2.4]), label=2),\n",
       " Row(features=DenseVector([6.7, 3.3, 5.7, 2.5]), label=2),\n",
       " Row(features=DenseVector([6.8, 3.2, 5.9, 2.3]), label=2),\n",
       " Row(features=DenseVector([6.9, 3.1, 5.1, 2.3]), label=2)]"
      ]
     },
     "execution_count": 11,
     "metadata": {},
     "output_type": "execute_result"
    }
   ],
   "source": [
    "spark_iris_df_train.collect()"
   ]
  },
  {
   "cell_type": "code",
   "execution_count": 12,
   "metadata": {},
   "outputs": [
    {
     "name": "stdout",
     "output_type": "stream",
     "text": [
      "CPU times: user 124 ms, sys: 90.3 ms, total: 215 ms\n",
      "Wall time: 8.12 s\n"
     ]
    }
   ],
   "source": [
    "%%time\n",
    "spark_lr_model = spark_lr.fit(spark_iris_df_train)"
   ]
  },
  {
   "cell_type": "markdown",
   "metadata": {},
   "source": [
    "### Explanation\n",
    "\n",
    "sklearn is a lighter framework and on such small dataset it's faster than Spark running on 16 cores."
   ]
  },
  {
   "cell_type": "code",
   "execution_count": 14,
   "metadata": {},
   "outputs": [],
   "source": [
    "spark_iris_df_test_results = spark_lr_model.evaluate(spark_iris_df_test)"
   ]
  },
  {
   "cell_type": "code",
   "execution_count": 15,
   "metadata": {},
   "outputs": [
    {
     "name": "stdout",
     "output_type": "stream",
     "text": [
      "+-----------------+-----+--------------------+--------------------+----------+\n",
      "|         features|label|       rawPrediction|         probability|prediction|\n",
      "+-----------------+-----+--------------------+--------------------+----------+\n",
      "|[4.6,3.4,1.4,0.3]|    0|[65.9256804357077...|[1.0,2.8503955077...|       0.0|\n",
      "|[5.1,3.5,1.4,0.2]|    0|[67.4810830925943...|[1.0,1.8099416931...|       0.0|\n",
      "|[5.4,3.9,1.7,0.4]|    0|[72.0039056006542...|[1.0,3.8837729867...|       0.0|\n",
      "|[4.3,3.0,1.1,0.1]|    0|[61.4028579276478...|[1.0,1.3283602540...|       0.0|\n",
      "|[4.8,3.4,1.6,0.2]|    0|[64.3555467863763...|[1.0,3.9960377742...|       0.0|\n",
      "|[5.1,3.5,1.4,0.3]|    0|[65.1270298777360...|[1.0,2.8025504728...|       0.0|\n",
      "|[5.4,3.9,1.3,0.4]|    0|[76.1899170358441...|[1.0,4.1760678153...|       0.0|\n",
      "|[5.7,4.4,1.5,0.4]|    0|[90.2466511409334...|[1.0,4.9224395783...|       0.0|\n",
      "|[4.8,3.4,1.9,0.2]|    0|[61.2160382099838...|[1.0,1.1967248397...|       0.0|\n",
      "|[5.4,3.4,1.7,0.2]|    0|[57.8155004877945...|[1.0,1.4153429064...|       0.0|\n",
      "|[5.7,3.8,1.7,0.3]|    0|[67.8318847871051...|[1.0,6.5493371211...|       0.0|\n",
      "|[5.2,3.4,1.4,0.2]|    0|[62.7861902107817...|[1.0,2.0995527022...|       0.0|\n",
      "|[5.5,4.2,1.4,0.2]|    0|[90.2738369590117...|[1.0,1.7557600108...|       0.0|\n",
      "|[4.4,3.2,1.3,0.2]|    0|[63.5988130389277...|[1.0,1.5742682717...|       0.0|\n",
      "|[4.9,3.6,1.4,0.1]|    0|[75.4456197625627...|[1.0,2.1238725114...|       0.0|\n",
      "|[5.1,3.4,1.5,0.2]|    0|[62.6552779252816...|[1.0,1.3742421614...|       0.0|\n",
      "|[5.5,3.5,1.3,0.2]|    0|[64.8652236582023...|[1.0,2.9531353590...|       0.0|\n",
      "|[5.0,3.3,1.4,0.2]|    0|[60.8380690488612...|[1.0,2.2805191307...|       0.0|\n",
      "|[5.1,3.8,1.6,0.2]|    0|[76.7259843005452...|[1.0,1.1941981658...|       0.0|\n",
      "|[5.3,3.7,1.5,0.2]|    0|[72.1620037042326...|[1.0,2.1164212245...|       0.0|\n",
      "|[6.6,2.9,4.6,1.3]|    1|[-28.311266202918...|[2.71146557745083...|       1.0|\n",
      "|[5.9,3.2,4.8,1.8]|    1|[-24.427497056177...|[4.82017432401015...|       2.0|\n",
      "|[5.7,2.6,3.5,1.0]|    1|[-12.835166877440...|[2.17303636370571...|       1.0|\n",
      "|[6.6,3.0,4.4,1.4]|    1|[-24.793011391666...|[4.12900315268529...|       1.0|\n",
      "|[5.4,3.0,4.5,1.5]|    1|[-17.206480585753...|[1.08170323422722...|       1.0|\n",
      "|[5.0,2.3,3.3,1.0]|    1|[-15.670934072309...|[7.75843995613463...|       1.0|\n",
      "|[6.1,3.0,4.6,1.4]|    1|[-22.308064242774...|[1.02803645084339...|       1.0|\n",
      "|[5.7,2.5,5.0,2.0]|    2|[-55.852544216500...|[3.65201860528184...|       2.0|\n",
      "|[5.8,2.8,5.1,2.4]|    2|[-55.892943582483...|[1.87483061677187...|       2.0|\n",
      "|[6.4,3.2,5.3,2.3]|    2|[-46.008230290942...|[2.81802463255384...|       2.0|\n",
      "|[6.5,3.2,5.1,2.0]|    2|[-37.768655502070...|[2.01627145506126...|       2.0|\n",
      "|[7.2,3.2,6.0,1.8]|    2|[-48.888208814612...|[4.00141358356458...|       2.0|\n",
      "|[7.7,3.8,6.7,2.2]|    2|[-47.532080701023...|[4.21798368264232...|       2.0|\n",
      "|[7.4,2.8,6.1,1.9]|    2|[-69.237155268924...|[4.76131108507941...|       2.0|\n",
      "|[7.9,3.8,6.4,2.0]|    2|[-41.515646841509...|[9.12011510642356...|       2.0|\n",
      "|[6.3,3.4,5.6,2.4]|    2|[-43.027596891865...|[3.52273468855220...|       2.0|\n",
      "|[6.9,3.1,5.4,2.1]|    2|[-50.703881895025...|[1.63483433751424...|       2.0|\n",
      "|[7.7,3.0,6.1,2.3]|    2|[-73.841535231219...|[4.90149226297799...|       2.0|\n",
      "+-----------------+-----+--------------------+--------------------+----------+\n",
      "\n"
     ]
    }
   ],
   "source": [
    "spark_iris_df_test_results.predictions.show(50)"
   ]
  }
 ],
 "metadata": {
  "kernelspec": {
   "display_name": "Python 3",
   "language": "python",
   "name": "python3"
  },
  "language_info": {
   "codemirror_mode": {
    "name": "ipython",
    "version": 3
   },
   "file_extension": ".py",
   "mimetype": "text/x-python",
   "name": "python",
   "nbconvert_exporter": "python",
   "pygments_lexer": "ipython3",
   "version": "3.7.3"
  }
 },
 "nbformat": 4,
 "nbformat_minor": 4
}
