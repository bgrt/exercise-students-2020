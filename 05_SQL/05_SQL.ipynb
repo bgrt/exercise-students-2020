{
 "cells": [
  {
   "cell_type": "markdown",
   "metadata": {},
   "source": [
    "# 5.SQL and Dataframes\n",
    "\n",
    "References:\n",
    "\n",
    "* Spark-SQL, <https://spark.apache.org/docs/latest/sql-programming-guide.html#datasets-and-dataframes>\n",
    "\n",
    "\n",
    "# 5.1  Example Walkthrough\n",
    "Follow the Spark SQL and Dataframes Examples below!\n",
    "\n",
    "### Initialize PySpark\n",
    "\n",
    "First, we use the findspark package to initialize PySpark."
   ]
  },
  {
   "cell_type": "code",
   "execution_count": 1,
   "metadata": {},
   "outputs": [
    {
     "data": {
      "text/plain": [
       "'/home/jupyter-ter-akopyan-118531-8d8bf/exercise-students-2020/05_SQL'"
      ]
     },
     "execution_count": 1,
     "metadata": {},
     "output_type": "execute_result"
    }
   ],
   "source": [
    "import os, sys\n",
    "os.chdir(os.path.join(os.environ[\"HOME\"], \"exercise-students-2020/05_SQL\"))\n",
    "%pwd"
   ]
  },
  {
   "cell_type": "code",
   "execution_count": 2,
   "metadata": {},
   "outputs": [
    {
     "name": "stdout",
     "output_type": "stream",
     "text": [
      "PySpark initiated...\n"
     ]
    }
   ],
   "source": [
    "# Initialize PySpark\n",
    "import os, sys\n",
    "APP_NAME = \"PySpark Lecture\"\n",
    "SPARK_MASTER=\"local[1]\"\n",
    "import pyspark\n",
    "import pyspark.sql\n",
    "from pyspark.sql import Row\n",
    "conf=pyspark.SparkConf()\n",
    "conf=pyspark.SparkConf().setAppName(APP_NAME).set(\"spark.local.dir\", os.path.join(os.getcwd(), \"tmp\"))\n",
    "sc = pyspark.SparkContext(master=SPARK_MASTER, conf=conf)\n",
    "spark = pyspark.sql.SparkSession(sc).builder.appName(APP_NAME).getOrCreate()\n",
    "\n",
    "print(\"PySpark initiated...\")"
   ]
  },
  {
   "cell_type": "markdown",
   "metadata": {},
   "source": [
    "### Hello, World!\n",
    "\n",
    "Loading data, mapping it and collecting the records into RAM..."
   ]
  },
  {
   "cell_type": "code",
   "execution_count": 3,
   "metadata": {},
   "outputs": [
    {
     "data": {
      "text/plain": [
       "[['Russell Jurney', 'Relato', 'CEO'],\n",
       " ['Florian Liebert', 'Mesosphere', 'CEO'],\n",
       " ['Don Brown', 'Rocana', 'CIO'],\n",
       " ['Steve Jobs', 'Apple', 'CEO'],\n",
       " ['Donald Trump', 'The Trump Organization', 'CEO'],\n",
       " ['Russell Jurney', 'Data Syndrome', 'Principal Consultant']]"
      ]
     },
     "execution_count": 3,
     "metadata": {},
     "output_type": "execute_result"
    }
   ],
   "source": [
    "# Load the text file using the SparkContext\n",
    "csv_lines = sc.textFile(\"../data/example.csv\")\n",
    "\n",
    "# Map the data to split the lines into a list\n",
    "data = csv_lines.map(lambda line: line.split(\",\"))\n",
    "\n",
    "# Collect the dataset into local RAM\n",
    "data.collect()"
   ]
  },
  {
   "cell_type": "markdown",
   "metadata": {},
   "source": [
    "### Creating Rows\n",
    "\n",
    "Creating `pyspark.sql.Rows` out of your data so you can create DataFrames..."
   ]
  },
  {
   "cell_type": "code",
   "execution_count": 4,
   "metadata": {},
   "outputs": [],
   "source": [
    "# Convert the CSV into a pyspark.sql.Row\n",
    "def csv_to_row(line):\n",
    "    parts = line.split(\",\")\n",
    "    row = Row(\n",
    "      name=parts[0],\n",
    "      company=parts[1],\n",
    "      title=parts[2]\n",
    "    )\n",
    "    return row\n",
    "\n",
    "# Apply the function to get rows in an RDD\n",
    "rows = csv_lines.map(csv_to_row)"
   ]
  },
  {
   "cell_type": "markdown",
   "metadata": {},
   "source": [
    "### Creating DataFrames from RDDs\n",
    "\n",
    "Using the `RDD.toDF()` method to create a dataframe, registering the `DataFrame` as a temporary table with Spark SQL, and counting the jobs per person using Spark SQL."
   ]
  },
  {
   "cell_type": "code",
   "execution_count": 5,
   "metadata": {},
   "outputs": [
    {
     "data": {
      "text/plain": [
       "[Row(company='Relato', name='Russell Jurney', title='CEO'),\n",
       " Row(company='Mesosphere', name='Florian Liebert', title='CEO'),\n",
       " Row(company='Rocana', name='Don Brown', title='CIO'),\n",
       " Row(company='Apple', name='Steve Jobs', title='CEO'),\n",
       " Row(company='The Trump Organization', name='Donald Trump', title='CEO')]"
      ]
     },
     "execution_count": 5,
     "metadata": {},
     "output_type": "execute_result"
    }
   ],
   "source": [
    "# Convert to a pyspark.sql.DataFrame\n",
    "rows_df = rows.toDF()\n",
    "rows_df.take(5)"
   ]
  },
  {
   "cell_type": "code",
   "execution_count": 6,
   "metadata": {},
   "outputs": [
    {
     "name": "stdout",
     "output_type": "stream",
     "text": [
      "+---------------+-----+\n",
      "|           name|total|\n",
      "+---------------+-----+\n",
      "|   Donald Trump|    1|\n",
      "|Florian Liebert|    1|\n",
      "|      Don Brown|    1|\n",
      "| Russell Jurney|    2|\n",
      "|     Steve Jobs|    1|\n",
      "+---------------+-----+\n",
      "\n"
     ]
    },
    {
     "data": {
      "text/plain": [
       "[Row(name='Donald Trump', total=1),\n",
       " Row(name='Florian Liebert', total=1),\n",
       " Row(name='Don Brown', total=1),\n",
       " Row(name='Russell Jurney', total=2),\n",
       " Row(name='Steve Jobs', total=1)]"
      ]
     },
     "execution_count": 6,
     "metadata": {},
     "output_type": "execute_result"
    }
   ],
   "source": [
    "# Register the DataFrame for Spark SQL\n",
    "rows_df.registerTempTable(\"executives\")\n",
    "\n",
    "# Generate a new DataFrame with SQL using the SparkSession\n",
    "job_counts = spark.sql(\"\"\"\n",
    "SELECT\n",
    "  name,\n",
    "  COUNT(*) AS total\n",
    "  FROM executives\n",
    "  GROUP BY name\n",
    "\"\"\")\n",
    "job_counts.show()\n",
    "\n",
    "# Go back to an RDD\n",
    "job_counts.rdd.collect()"
   ]
  },
  {
   "cell_type": "markdown",
   "metadata": {},
   "source": [
    "# 5.2-5.9 NASA DataSet\n",
    "\n",
    "5.2 Create a Spark-SQL table with fields for IP/Host and Response Code from the NASA Log file! "
   ]
  },
  {
   "cell_type": "code",
   "execution_count": 7,
   "metadata": {},
   "outputs": [
    {
     "name": "stdout",
     "output_type": "stream",
     "text": [
      "163.205.53.14 - - [28/Jul/1995:13:32:23 -0400] \"GET /images/KSC-logosmall.gif HTTP/1.0\" 200 1204\n",
      "tiger2.ocs.lsu.edu - - [28/Jul/1995:13:32:23 -0400] \"GET /shuttle/missions/missions.html HTTP/1.0\" 200 8677\n",
      "199.0.2.27 - - [28/Jul/1995:13:32:23 -0400] \"GET /images/ksclogo-medium.gif HTTP/1.0\" 200 5866\n",
      "tornado.umd.edu - - [28/Jul/1995:13:32:25 -0400] \"GET /shuttle/missions/sts-74/sts-74-patch-small.gif HTTP/1.0\" 200 5494\n",
      "alyssa.p"
     ]
    }
   ],
   "source": [
    "!tail -n5 /opt/data/nasa/NASA_access_log_Jul95"
   ]
  },
  {
   "cell_type": "code",
   "execution_count": 8,
   "metadata": {},
   "outputs": [],
   "source": [
    "# Load the text file using the SparkContext\n",
    "nasa_lines = sc.textFile(\"/opt/data/nasa/NASA_access_log_Jul95\")"
   ]
  },
  {
   "cell_type": "code",
   "execution_count": 9,
   "metadata": {},
   "outputs": [],
   "source": [
    "# Convert the CSV into a pyspark.sql.Row\n",
    "def nasa_to_row(line):\n",
    "    parts = line.split(\" \")\n",
    "    row = Row(\n",
    "      host=parts[0],\n",
    "      res=parts[-2]\n",
    "    )\n",
    "    return row\n",
    "\n",
    "# Apply the function to get rows in an RDD\n",
    "nasa_rows = nasa_lines.filter(lambda x: '- -' in x).map(nasa_to_row)"
   ]
  },
  {
   "cell_type": "code",
   "execution_count": 10,
   "metadata": {},
   "outputs": [],
   "source": [
    "# Convert to a pyspark.sql.DataFrame\n",
    "nasa_df = nasa_rows.toDF()"
   ]
  },
  {
   "cell_type": "code",
   "execution_count": 11,
   "metadata": {},
   "outputs": [
    {
     "data": {
      "text/plain": [
       "[Row(host='199.72.81.55', res='200'),\n",
       " Row(host='unicomp6.unicomp.net', res='200'),\n",
       " Row(host='199.120.110.21', res='200'),\n",
       " Row(host='burger.letters.com', res='304'),\n",
       " Row(host='199.120.110.21', res='200')]"
      ]
     },
     "execution_count": 11,
     "metadata": {},
     "output_type": "execute_result"
    }
   ],
   "source": [
    "nasa_df.take(5)"
   ]
  },
  {
   "cell_type": "markdown",
   "metadata": {},
   "source": [
    "5.3 Run an SQL query that outputs the number of occurrences of each HTTP response code!"
   ]
  },
  {
   "cell_type": "code",
   "execution_count": 12,
   "metadata": {},
   "outputs": [
    {
     "name": "stdout",
     "output_type": "stream",
     "text": [
      "+---+-------+\n",
      "|res|  total|\n",
      "+---+-------+\n",
      "|200|1701534|\n",
      "|302|  46573|\n",
      "|501|     14|\n",
      "|404|  10845|\n",
      "|403|     54|\n",
      "|500|     62|\n",
      "|304| 132627|\n",
      "|400|      5|\n",
      "+---+-------+\n",
      "\n"
     ]
    }
   ],
   "source": [
    "# Register the DataFrame for Spark SQL\n",
    "nasa_df.registerTempTable(\"nasalogs\")\n",
    "\n",
    "# Generate a new DataFrame with SQL using the SparkSession\n",
    "res_counts = spark.sql(\"\"\"\n",
    "SELECT\n",
    "  res,\n",
    "  COUNT(*) AS total\n",
    "  FROM nasalogs\n",
    "  GROUP BY res\n",
    "\"\"\")\n",
    "res_counts.show()"
   ]
  },
  {
   "cell_type": "markdown",
   "metadata": {},
   "source": [
    "5.4 Cachen Sie den Dataframe und führen Sie dieselbe Query nochmals aus! Messen Sie die Laufzeit für das Cachen und für die Ausführungszeit der Query!"
   ]
  },
  {
   "cell_type": "code",
   "execution_count": 13,
   "metadata": {},
   "outputs": [],
   "source": [
    "from time import time"
   ]
  },
  {
   "cell_type": "code",
   "execution_count": 14,
   "metadata": {},
   "outputs": [
    {
     "name": "stdout",
     "output_type": "stream",
     "text": [
      "Cache runtime: 11.741\n"
     ]
    }
   ],
   "source": [
    "cstart = time()\n",
    "nasa_df.cache().count()\n",
    "cend = time()\n",
    "print('Cache runtime: %.3f' % (cend - cstart))"
   ]
  },
  {
   "cell_type": "code",
   "execution_count": 15,
   "metadata": {},
   "outputs": [
    {
     "name": "stdout",
     "output_type": "stream",
     "text": [
      "+---+-------+\n",
      "|res|  total|\n",
      "+---+-------+\n",
      "|200|1701534|\n",
      "|302|  46573|\n",
      "|501|     14|\n",
      "|404|  10845|\n",
      "|403|     54|\n",
      "|500|     62|\n",
      "|304| 132627|\n",
      "|400|      5|\n",
      "+---+-------+\n",
      "\n",
      "Query runtime: 1.365\n"
     ]
    }
   ],
   "source": [
    "qstart = time()\n",
    "res_counts = spark.sql(\"\"\"\n",
    "SELECT\n",
    "  res,\n",
    "  COUNT(*) AS total\n",
    "  FROM nasalogs\n",
    "  GROUP BY res\n",
    "\"\"\")\n",
    "\n",
    "res_counts.show()\n",
    "qend = time()\n",
    "print('Query runtime: %.3f' % (qend - qstart))"
   ]
  },
  {
   "cell_type": "markdown",
   "metadata": {},
   "source": [
    "5.5. Implement the same Query using the Dataframe API!"
   ]
  },
  {
   "cell_type": "code",
   "execution_count": 16,
   "metadata": {},
   "outputs": [
    {
     "data": {
      "text/plain": [
       "[Row(host='199.72.81.55', res='200'),\n",
       " Row(host='unicomp6.unicomp.net', res='200'),\n",
       " Row(host='199.120.110.21', res='200')]"
      ]
     },
     "execution_count": 16,
     "metadata": {},
     "output_type": "execute_result"
    }
   ],
   "source": [
    "nasa_df.take(3)"
   ]
  },
  {
   "cell_type": "code",
   "execution_count": 17,
   "metadata": {},
   "outputs": [
    {
     "name": "stdout",
     "output_type": "stream",
     "text": [
      "+---+-------+\n",
      "|res|  count|\n",
      "+---+-------+\n",
      "|200|1701534|\n",
      "|302|  46573|\n",
      "|501|     14|\n",
      "|404|  10845|\n",
      "|403|     54|\n",
      "|500|     62|\n",
      "|304| 132627|\n",
      "|400|      5|\n",
      "+---+-------+\n",
      "\n"
     ]
    }
   ],
   "source": [
    "nasa_df.groupBy('res').count().show()"
   ]
  },
  {
   "cell_type": "markdown",
   "metadata": {},
   "source": [
    "5.6 Führen Sie diesselbe Query mit/ohne Cache und 8, 16 Cores aus! Dokumentieren und erklären Sie das Ergebnis!"
   ]
  },
  {
   "cell_type": "code",
   "execution_count": 18,
   "metadata": {},
   "outputs": [],
   "source": [
    "def evaluate_num_cores(core = 8, cache = False):\n",
    "    if cache:\n",
    "        nasa_df.cache().count()\n",
    "    else:\n",
    "        nasa_df.unpersist().count()\n",
    "    spark.sparkContext.master = \"loca[{0}]\".format(core)\n",
    "    start = time()\n",
    "    nasa_df.groupBy('res').count().show()\n",
    "    return time() - start"
   ]
  },
  {
   "cell_type": "code",
   "execution_count": 19,
   "metadata": {},
   "outputs": [
    {
     "name": "stdout",
     "output_type": "stream",
     "text": [
      "+---+-------+\n",
      "|res|  count|\n",
      "+---+-------+\n",
      "|200|1701534|\n",
      "|302|  46573|\n",
      "|501|     14|\n",
      "|404|  10845|\n",
      "|403|     54|\n",
      "|500|     62|\n",
      "|304| 132627|\n",
      "|400|      5|\n",
      "+---+-------+\n",
      "\n",
      "Elapsed time: 12.063 s\n"
     ]
    }
   ],
   "source": [
    "print('Elapsed time: %.3f s' % evaluate_num_cores(8, cache = False))"
   ]
  },
  {
   "cell_type": "code",
   "execution_count": 20,
   "metadata": {},
   "outputs": [
    {
     "name": "stdout",
     "output_type": "stream",
     "text": [
      "+---+-------+\n",
      "|res|  count|\n",
      "+---+-------+\n",
      "|200|1701534|\n",
      "|302|  46573|\n",
      "|501|     14|\n",
      "|404|  10845|\n",
      "|403|     54|\n",
      "|500|     62|\n",
      "|304| 132627|\n",
      "|400|      5|\n",
      "+---+-------+\n",
      "\n",
      "Elapsed time: 0.881 s\n"
     ]
    }
   ],
   "source": [
    "print('Elapsed time: %.3f s' % evaluate_num_cores(8, cache = True))"
   ]
  },
  {
   "cell_type": "code",
   "execution_count": 21,
   "metadata": {},
   "outputs": [
    {
     "name": "stdout",
     "output_type": "stream",
     "text": [
      "+---+-------+\n",
      "|res|  count|\n",
      "+---+-------+\n",
      "|200|1701534|\n",
      "|302|  46573|\n",
      "|501|     14|\n",
      "|404|  10845|\n",
      "|403|     54|\n",
      "|500|     62|\n",
      "|304| 132627|\n",
      "|400|      5|\n",
      "+---+-------+\n",
      "\n",
      "Elapsed time: 11.817 s\n"
     ]
    }
   ],
   "source": [
    "print('Elapsed time: %.3f s' % evaluate_num_cores(16, cache = False))"
   ]
  },
  {
   "cell_type": "code",
   "execution_count": 22,
   "metadata": {},
   "outputs": [
    {
     "name": "stdout",
     "output_type": "stream",
     "text": [
      "+---+-------+\n",
      "|res|  count|\n",
      "+---+-------+\n",
      "|200|1701534|\n",
      "|302|  46573|\n",
      "|501|     14|\n",
      "|404|  10845|\n",
      "|403|     54|\n",
      "|500|     62|\n",
      "|304| 132627|\n",
      "|400|      5|\n",
      "+---+-------+\n",
      "\n",
      "Elapsed time: 0.832 s\n"
     ]
    }
   ],
   "source": [
    "print('Elapsed time: %.3f s' % evaluate_num_cores(16, cache = True))"
   ]
  },
  {
   "cell_type": "markdown",
   "metadata": {},
   "source": [
    "**Explanation**<br>\n",
    "independently of number of cores used the execution time of counting the occurence of each resonse code <br>\n",
    "is roughly the same and is only depending on the fact whether the data is cached or not! <br>\n",
    "<br>\n",
    "@Michał: do u have any improvements?"
   ]
  },
  {
   "cell_type": "code",
   "execution_count": 23,
   "metadata": {},
   "outputs": [
    {
     "data": {
      "text/html": [
       "\n",
       "            <div>\n",
       "                <p><b>SparkSession - in-memory</b></p>\n",
       "                \n",
       "        <div>\n",
       "            <p><b>SparkContext</b></p>\n",
       "\n",
       "            <p><a href=\"http://host-192-168-128-212.openstacklocal:4040\">Spark UI</a></p>\n",
       "\n",
       "            <dl>\n",
       "              <dt>Version</dt>\n",
       "                <dd><code>v2.4.5</code></dd>\n",
       "              <dt>Master</dt>\n",
       "                <dd><code>loca[16]</code></dd>\n",
       "              <dt>AppName</dt>\n",
       "                <dd><code>PySpark Lecture</code></dd>\n",
       "            </dl>\n",
       "        </div>\n",
       "        \n",
       "            </div>\n",
       "        "
      ],
      "text/plain": [
       "<pyspark.sql.session.SparkSession at 0x7f00b2e7fac8>"
      ]
     },
     "execution_count": 23,
     "metadata": {},
     "output_type": "execute_result"
    }
   ],
   "source": [
    "spark"
   ]
  },
  {
   "cell_type": "markdown",
   "metadata": {},
   "source": [
    "5.7 Performance Analysis: \n",
    "* Create RDDs with 2x, 4x, 8x and 16x of the size of the NASA log dataset! Persist the dataset in the Spark Cache! Use an appropriate number of cores (e.g. 8 or 16)!\n",
    "* Measure and plot the response times for all datasets using a constant number of cores!\n",
    "* Plot the results!\n",
    "* Explain the results!\n",
    "\n"
   ]
  },
  {
   "cell_type": "code",
   "execution_count": 75,
   "metadata": {},
   "outputs": [],
   "source": [
    "def oversample(n):\n",
    "    nasa_lines = sc.textFile(\"/opt/data/nasa/NASA_access_log_Jul95\").flatMap(lambda x: [x]*n)\n",
    "    nasa_rows = nasa_lines.filter(lambda x: '- -' in x).map(nasa_to_row)\n",
    "    return nasa_rows.toDF()"
   ]
  },
  {
   "cell_type": "code",
   "execution_count": 76,
   "metadata": {},
   "outputs": [],
   "source": [
    "oversamples = []\n",
    "for x in (2**p for p in range(1, 5)):\n",
    "    tmp = oversample(x)\n",
    "    tmp.cache().count()\n",
    "    oversamples.append(tmp)"
   ]
  },
  {
   "cell_type": "code",
   "execution_count": 90,
   "metadata": {},
   "outputs": [],
   "source": [
    "measures = {}\n",
    "for i, df in enumerate(oversamples):\n",
    "    start = time()\n",
    "    df.groupBy('res').count()\n",
    "    end = time()\n",
    "    measures[2**(i + 1)] = end - start"
   ]
  },
  {
   "cell_type": "code",
   "execution_count": 91,
   "metadata": {},
   "outputs": [
    {
     "data": {
      "text/plain": [
       "{2: 0.015379190444946289,\n",
       " 4: 0.012316703796386719,\n",
       " 8: 0.0066454410552978516,\n",
       " 16: 0.005765199661254883}"
      ]
     },
     "execution_count": 91,
     "metadata": {},
     "output_type": "execute_result"
    }
   ],
   "source": [
    "measures"
   ]
  },
  {
   "cell_type": "code",
   "execution_count": 94,
   "metadata": {},
   "outputs": [],
   "source": [
    "import matplotlib.pyplot as plt"
   ]
  },
  {
   "cell_type": "code",
   "execution_count": 97,
   "metadata": {},
   "outputs": [
    {
     "data": {
      "text/plain": [
       "<BarContainer object of 4 artists>"
      ]
     },
     "execution_count": 97,
     "metadata": {},
     "output_type": "execute_result"
    },
    {
     "data": {
      "image/png": "[encoded data removed]",
      "text/plain": [
       "<Figure size 432x288 with 1 Axes>"
      ]
     },
     "metadata": {
      "needs_background": "light"
     },
     "output_type": "display_data"
    }
   ],
   "source": [
    "plt.bar(measures.keys(), measures.values())"
   ]
  },
  {
   "cell_type": "markdown",
   "metadata": {},
   "source": [
    "5.8 Strong Scaling\n",
    "\n",
    "  * **Measure the runtime for the query for 1, 2, 4, 8 and 16 cores for 1x and 16x datasets!** Datasets cached in Memory!\n",
    "  * Compute the speedup and efficiency!\n",
    "  * Plot the responses!\n",
    "  * Explain the results!"
   ]
  }
 ],
 "metadata": {
  "anaconda-cloud": {},
  "kernelspec": {
   "display_name": "Python 3",
   "language": "python",
   "name": "python3"
  },
  "language_info": {
   "codemirror_mode": {
    "name": "ipython",
    "version": 3
   },
   "file_extension": ".py",
   "mimetype": "text/x-python",
   "name": "python",
   "nbconvert_exporter": "python",
   "pygments_lexer": "ipython3",
   "version": "3.7.3"
  }
 },
 "nbformat": 4,
 "nbformat_minor": 4
}
